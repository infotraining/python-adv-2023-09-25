{
 "cells": [
  {
   "attachments": {},
   "cell_type": "markdown",
   "metadata": {},
   "source": [
    "# Klasy"
   ]
  },
  {
   "cell_type": "code",
   "execution_count": 142,
   "metadata": {},
   "outputs": [],
   "source": [
    "class CountedObject(object):\n",
    "    count = 0   # statyczna składowa\n",
    "    \n",
    "    def __init__(self):\n",
    "        CountedObject.count += 1\n",
    "    \n",
    "    @staticmethod  # statyczna metoda\n",
    "    def get_count():\n",
    "        return CountedObject.count"
   ]
  },
  {
   "cell_type": "code",
   "execution_count": 143,
   "metadata": {},
   "outputs": [],
   "source": [
    "lst = [CountedObject() for i in range(10)]"
   ]
  },
  {
   "cell_type": "code",
   "execution_count": 144,
   "metadata": {},
   "outputs": [
    {
     "data": {
      "text/plain": [
       "10"
      ]
     },
     "execution_count": 144,
     "metadata": {},
     "output_type": "execute_result"
    }
   ],
   "source": [
    "CountedObject.count"
   ]
  },
  {
   "cell_type": "code",
   "execution_count": 145,
   "metadata": {},
   "outputs": [
    {
     "data": {
      "text/plain": [
       "10"
      ]
     },
     "execution_count": 145,
     "metadata": {},
     "output_type": "execute_result"
    }
   ],
   "source": [
    "CountedObject.get_count()"
   ]
  },
  {
   "cell_type": "code",
   "execution_count": null,
   "metadata": {},
   "outputs": [],
   "source": [
    "lst[3].count = 42"
   ]
  },
  {
   "cell_type": "code",
   "execution_count": 150,
   "metadata": {},
   "outputs": [],
   "source": [
    "class Person:\n",
    "    name = \"unknown\""
   ]
  },
  {
   "cell_type": "code",
   "execution_count": 151,
   "metadata": {},
   "outputs": [],
   "source": [
    "p1 = Person()"
   ]
  },
  {
   "cell_type": "code",
   "execution_count": 152,
   "metadata": {},
   "outputs": [
    {
     "data": {
      "text/plain": [
       "'unknown'"
      ]
     },
     "execution_count": 152,
     "metadata": {},
     "output_type": "execute_result"
    }
   ],
   "source": [
    "p1.name"
   ]
  },
  {
   "cell_type": "code",
   "execution_count": 153,
   "metadata": {},
   "outputs": [],
   "source": [
    "p1.name = \"Jan\""
   ]
  },
  {
   "cell_type": "code",
   "execution_count": 154,
   "metadata": {},
   "outputs": [
    {
     "data": {
      "text/plain": [
       "'Jan'"
      ]
     },
     "execution_count": 154,
     "metadata": {},
     "output_type": "execute_result"
    }
   ],
   "source": [
    "p1.name"
   ]
  },
  {
   "cell_type": "code",
   "execution_count": 155,
   "metadata": {},
   "outputs": [],
   "source": [
    "class Date:\n",
    "    year = 2023\n",
    "\n",
    "    def __init__(self, day, month, year = None):\n",
    "        self.day = day\n",
    "        self.month = month\n",
    "        if year:\n",
    "            self.year = year \n",
    "    \n",
    "    @classmethod\n",
    "    def from_string(cls, date_as_string):        \n",
    "        day, month, year = date_as_string.split('-')\n",
    "        return cls(int(day), int(month), int(year)) # utworzenie instancji klasy cls\n",
    "\n",
    "    @classmethod\n",
    "    def update_default_year(cls, value):\n",
    "        cls.year = value"
   ]
  },
  {
   "cell_type": "code",
   "execution_count": 157,
   "metadata": {},
   "outputs": [
    {
     "data": {
      "text/plain": [
       "2023"
      ]
     },
     "execution_count": 157,
     "metadata": {},
     "output_type": "execute_result"
    }
   ],
   "source": [
    "Date.year"
   ]
  },
  {
   "cell_type": "code",
   "execution_count": 158,
   "metadata": {},
   "outputs": [],
   "source": [
    "d1 = Date(25, 9)"
   ]
  },
  {
   "cell_type": "code",
   "execution_count": 159,
   "metadata": {},
   "outputs": [
    {
     "data": {
      "text/plain": [
       "2023"
      ]
     },
     "execution_count": 159,
     "metadata": {},
     "output_type": "execute_result"
    }
   ],
   "source": [
    "d1.year"
   ]
  },
  {
   "cell_type": "code",
   "execution_count": 160,
   "metadata": {},
   "outputs": [
    {
     "data": {
      "text/plain": [
       "{'day': 25, 'month': 9}"
      ]
     },
     "execution_count": 160,
     "metadata": {},
     "output_type": "execute_result"
    }
   ],
   "source": [
    "d1.__dict__"
   ]
  },
  {
   "cell_type": "code",
   "execution_count": 161,
   "metadata": {},
   "outputs": [],
   "source": [
    "Date.update_default_year(2024)"
   ]
  },
  {
   "cell_type": "code",
   "execution_count": 162,
   "metadata": {},
   "outputs": [
    {
     "data": {
      "text/plain": [
       "2024"
      ]
     },
     "execution_count": 162,
     "metadata": {},
     "output_type": "execute_result"
    }
   ],
   "source": [
    "d1.year"
   ]
  },
  {
   "cell_type": "code",
   "execution_count": 165,
   "metadata": {},
   "outputs": [],
   "source": [
    "d2 = Date.from_string(\"25-9-2023\")"
   ]
  },
  {
   "cell_type": "code",
   "execution_count": 166,
   "metadata": {},
   "outputs": [
    {
     "data": {
      "text/plain": [
       "{'day': 25, 'month': 9, 'year': 2023}"
      ]
     },
     "execution_count": 166,
     "metadata": {},
     "output_type": "execute_result"
    }
   ],
   "source": [
    "d2.__dict__"
   ]
  },
  {
   "cell_type": "code",
   "execution_count": 167,
   "metadata": {},
   "outputs": [
    {
     "data": {
      "text/plain": [
       "<__main__.Date at 0x7f08f9510890>"
      ]
     },
     "execution_count": 167,
     "metadata": {},
     "output_type": "execute_result"
    }
   ],
   "source": [
    "d1.from_string(\"3-3-2022\")"
   ]
  },
  {
   "cell_type": "markdown",
   "metadata": {},
   "source": [
    "# Deskryptor\n",
    "\n",
    "## Non-data descriptor"
   ]
  },
  {
   "cell_type": "code",
   "execution_count": null,
   "metadata": {},
   "outputs": [],
   "source": [
    "import os\n",
    "\n",
    "class DirectorySize:\n",
    "    def __get__(self, instance, owner_class):\n",
    "        print(f'Access to {instance} using descriptor {self}')\n",
    "        return len(os.listdir(instance.directory_name))\n",
    "    \n",
    "\n",
    "class Directory:\n",
    "    size = DirectorySize() # descriptor instance\n",
    "\n",
    "    def __init__(self, directory_name):\n",
    "        self.directory_name = directory_name # regular instance attribute"
   ]
  },
  {
   "cell_type": "code",
   "execution_count": null,
   "metadata": {},
   "outputs": [],
   "source": [
    "local_dir = Directory('.')"
   ]
  },
  {
   "cell_type": "code",
   "execution_count": null,
   "metadata": {},
   "outputs": [
    {
     "data": {
      "text/plain": [
       "{'directory_name': '.'}"
      ]
     },
     "metadata": {},
     "output_type": "display_data"
    }
   ],
   "source": [
    "local_dir.__dict__"
   ]
  },
  {
   "cell_type": "code",
   "execution_count": null,
   "metadata": {},
   "outputs": [
    {
     "name": "stdout",
     "output_type": "stream",
     "text": [
      "Access to <__main__.Directory object at 0x7f08f957dc10> using descriptor <__main__.DirectorySize object at 0x7f08f9535250>\n"
     ]
    },
    {
     "data": {
      "text/plain": [
       "1"
      ]
     },
     "metadata": {},
     "output_type": "display_data"
    }
   ],
   "source": [
    "local_dir.size"
   ]
  },
  {
   "cell_type": "markdown",
   "metadata": {},
   "source": [
    "## Data descriptor"
   ]
  },
  {
   "cell_type": "markdown",
   "metadata": {},
   "source": []
  },
  {
   "cell_type": "code",
   "execution_count": null,
   "metadata": {},
   "outputs": [
    {
     "name": "stderr",
     "output_type": "stream",
     "text": [
      "INFO:root:Setting names: 'age' and '_age'\n",
      "INFO:root:Setting names: 'name' and '_name'\n"
     ]
    }
   ],
   "source": [
    "import logging\n",
    "\n",
    "logging.basicConfig(level=logging.INFO)\n",
    "\n",
    "class LoggedAccess:\n",
    "\n",
    "    def __set_name__(self, owner, name):\n",
    "        self.public_name = name\n",
    "        self.private_name = '_' + name\n",
    "        logging.info('Setting names: %r and %r', self.public_name, self.private_name)\n",
    "\n",
    "    def __get__(self, instance, owner_class=None):\n",
    "        value = getattr(instance, self.private_name)\n",
    "        logging.info('Accessing %r.%r giving %r', instance, self.public_name, value)\n",
    "        return value\n",
    "\n",
    "    def __set__(self, instance, value):\n",
    "        logging.info('Updating %r.%r to %r', instance, self.public_name, value)\n",
    "        setattr(instance, self.private_name, value)\n",
    "\n",
    "\n",
    "class Person:\n",
    "    age = LoggedAccess()             # Descriptor instance\n",
    "    name = LoggedAccess()\n",
    "\n",
    "    def __init__(self, name, age):\n",
    "        self.name = name                # Regular instance attribute\n",
    "        self.age = age                  # Calls __set__()\n",
    "\n",
    "    def birthday(self):\n",
    "        self.age += 1                   # Calls both __get__() and __set__()"
   ]
  },
  {
   "cell_type": "code",
   "execution_count": null,
   "metadata": {},
   "outputs": [
    {
     "name": "stderr",
     "output_type": "stream",
     "text": [
      "INFO:root:Updating <__main__.Person object at 0x7f08f948cc50>.'name' to 'Jan'\n",
      "INFO:root:Updating <__main__.Person object at 0x7f08f948cc50>.'age' to 22\n"
     ]
    }
   ],
   "source": [
    "p1 = Person(\"Jan\", 22)"
   ]
  },
  {
   "cell_type": "code",
   "execution_count": null,
   "metadata": {},
   "outputs": [
    {
     "name": "stderr",
     "output_type": "stream",
     "text": [
      "INFO:root:Accessing <__main__.Person object at 0x7f08f948cc50>.'age' giving 22\n"
     ]
    },
    {
     "data": {
      "text/plain": [
       "22"
      ]
     },
     "metadata": {},
     "output_type": "display_data"
    }
   ],
   "source": [
    "p1.age"
   ]
  },
  {
   "cell_type": "code",
   "execution_count": null,
   "metadata": {},
   "outputs": [
    {
     "name": "stderr",
     "output_type": "stream",
     "text": [
      "INFO:root:Updating <__main__.Person object at 0x7f08f948cc50>.'age' to 44\n"
     ]
    }
   ],
   "source": [
    "p1.age = 44"
   ]
  },
  {
   "cell_type": "code",
   "execution_count": null,
   "metadata": {},
   "outputs": [
    {
     "name": "stderr",
     "output_type": "stream",
     "text": [
      "INFO:root:Accessing <__main__.Person object at 0x7f08f948cc50>.'age' giving 44\n"
     ]
    },
    {
     "data": {
      "text/plain": [
       "44"
      ]
     },
     "metadata": {},
     "output_type": "display_data"
    }
   ],
   "source": [
    "p1.age"
   ]
  },
  {
   "cell_type": "code",
   "execution_count": null,
   "metadata": {},
   "outputs": [
    {
     "name": "stderr",
     "output_type": "stream",
     "text": [
      "INFO:root:Accessing <__main__.Person object at 0x7f08f948cc50>.'name' giving 'Jan'\n"
     ]
    },
    {
     "data": {
      "text/plain": [
       "'Jan'"
      ]
     },
     "metadata": {},
     "output_type": "display_data"
    }
   ],
   "source": [
    "p1.name"
   ]
  },
  {
   "cell_type": "code",
   "execution_count": null,
   "metadata": {},
   "outputs": [
    {
     "name": "stderr",
     "output_type": "stream",
     "text": [
      "INFO:root:Accessing <__main__.Person object at 0x7f08f948cc50>.'age' giving 44\n",
      "INFO:root:Updating <__main__.Person object at 0x7f08f948cc50>.'age' to 45\n"
     ]
    }
   ],
   "source": [
    "p1.birthday()"
   ]
  },
  {
   "cell_type": "markdown",
   "metadata": {},
   "source": [
    "### ReadOnlyProperty"
   ]
  },
  {
   "cell_type": "code",
   "execution_count": 201,
   "metadata": {},
   "outputs": [],
   "source": [
    "class ReadOnlyProperty:\n",
    "    def __init__(self, fget):\n",
    "        self.fget = fget\n",
    "\n",
    "    def __get__(self, instance, owner):\n",
    "        return self.fget(instance)\n",
    "    \n",
    "    def __set__(self, instance, value):\n",
    "        raise AttributeError(\"Attribute is read-only\")"
   ]
  },
  {
   "cell_type": "code",
   "execution_count": 214,
   "metadata": {},
   "outputs": [],
   "source": [
    "class Data:\n",
    "    def __init__(self, data: int, name: str = \"default\") -> None:\n",
    "        self._data = data\n",
    "        self._name = name\n",
    "\n",
    "    # def data(self) -> int:\n",
    "    #    return self._data\n",
    "    \n",
    "    # data = ReadOnlyProperty(data)\n",
    "\n",
    "    @ReadOnlyProperty\n",
    "    def data(self):\n",
    "        return self._data\n",
    "    \n",
    "    @property\n",
    "    def name(self):\n",
    "        return self._name"
   ]
  },
  {
   "cell_type": "code",
   "execution_count": 215,
   "metadata": {},
   "outputs": [],
   "source": [
    "data1 = Data(42)"
   ]
  },
  {
   "cell_type": "code",
   "execution_count": 216,
   "metadata": {},
   "outputs": [
    {
     "data": {
      "text/plain": [
       "42"
      ]
     },
     "execution_count": 216,
     "metadata": {},
     "output_type": "execute_result"
    }
   ],
   "source": [
    "data1.data"
   ]
  },
  {
   "cell_type": "code",
   "execution_count": 217,
   "metadata": {},
   "outputs": [
    {
     "ename": "AttributeError",
     "evalue": "Attribute is read-only",
     "output_type": "error",
     "traceback": [
      "\u001b[0;31m---------------------------------------------------------------------------\u001b[0m",
      "\u001b[0;31mAttributeError\u001b[0m                            Traceback (most recent call last)",
      "\u001b[1;32m/workspaces/python-adv-2023-09-25/code/classes.ipynb Cell 41\u001b[0m line \u001b[0;36m1\n\u001b[0;32m----> <a href='vscode-notebook-cell://dev-container%2B7b22686f737450617468223a22643a5c5c696e666f747261696e696e675c5c747261696e696e67735c5c70795c5c707974686f6e2d6164762d323032332d30392d3235222c226c6f63616c446f636b6572223a66616c73652c2273657474696e6773223a7b226365727450617468223a22633a5c5c55736572735c5c6b705c5c2e646f636b65725c5c6d616368696e655c5c63657274735c5c227d2c22636f6e66696746696c65223a7b22246d6964223a312c22667350617468223a22643a5c5c696e666f747261696e696e675c5c747261696e696e67735c5c70795c5c707974686f6e2d6164762d323032332d30392d32355c5c2e646576636f6e7461696e65725c5c646576636f6e7461696e65722e6a736f6e222c225f736570223a312c2265787465726e616c223a2266696c653a2f2f2f642533412f696e666f747261696e696e672f747261696e696e67732f70792f707974686f6e2d6164762d323032332d30392d32352f2e646576636f6e7461696e65722f646576636f6e7461696e65722e6a736f6e222c2270617468223a222f643a2f696e666f747261696e696e672f747261696e696e67732f70792f707974686f6e2d6164762d323032332d30392d32352f2e646576636f6e7461696e65722f646576636f6e7461696e65722e6a736f6e222c22736368656d65223a2266696c65227d7d/workspaces/python-adv-2023-09-25/code/classes.ipynb#Y360sdnNjb2RlLXJlbW90ZQ%3D%3D?line=0'>1</a>\u001b[0m data1\u001b[39m.\u001b[39;49mdata \u001b[39m=\u001b[39m \u001b[39m665\u001b[39m\n",
      "\u001b[1;32m/workspaces/python-adv-2023-09-25/code/classes.ipynb Cell 41\u001b[0m line \u001b[0;36m9\n\u001b[1;32m      <a href='vscode-notebook-cell://dev-container%2B7b22686f737450617468223a22643a5c5c696e666f747261696e696e675c5c747261696e696e67735c5c70795c5c707974686f6e2d6164762d323032332d30392d3235222c226c6f63616c446f636b6572223a66616c73652c2273657474696e6773223a7b226365727450617468223a22633a5c5c55736572735c5c6b705c5c2e646f636b65725c5c6d616368696e655c5c63657274735c5c227d2c22636f6e66696746696c65223a7b22246d6964223a312c22667350617468223a22643a5c5c696e666f747261696e696e675c5c747261696e696e67735c5c70795c5c707974686f6e2d6164762d323032332d30392d32355c5c2e646576636f6e7461696e65725c5c646576636f6e7461696e65722e6a736f6e222c225f736570223a312c2265787465726e616c223a2266696c653a2f2f2f642533412f696e666f747261696e696e672f747261696e696e67732f70792f707974686f6e2d6164762d323032332d30392d32352f2e646576636f6e7461696e65722f646576636f6e7461696e65722e6a736f6e222c2270617468223a222f643a2f696e666f747261696e696e672f747261696e696e67732f70792f707974686f6e2d6164762d323032332d30392d32352f2e646576636f6e7461696e65722f646576636f6e7461696e65722e6a736f6e222c22736368656d65223a2266696c65227d7d/workspaces/python-adv-2023-09-25/code/classes.ipynb#Y360sdnNjb2RlLXJlbW90ZQ%3D%3D?line=7'>8</a>\u001b[0m \u001b[39mdef\u001b[39;00m \u001b[39m__set__\u001b[39m(\u001b[39mself\u001b[39m, instance, value):\n\u001b[0;32m----> <a href='vscode-notebook-cell://dev-container%2B7b22686f737450617468223a22643a5c5c696e666f747261696e696e675c5c747261696e696e67735c5c70795c5c707974686f6e2d6164762d323032332d30392d3235222c226c6f63616c446f636b6572223a66616c73652c2273657474696e6773223a7b226365727450617468223a22633a5c5c55736572735c5c6b705c5c2e646f636b65725c5c6d616368696e655c5c63657274735c5c227d2c22636f6e66696746696c65223a7b22246d6964223a312c22667350617468223a22643a5c5c696e666f747261696e696e675c5c747261696e696e67735c5c70795c5c707974686f6e2d6164762d323032332d30392d32355c5c2e646576636f6e7461696e65725c5c646576636f6e7461696e65722e6a736f6e222c225f736570223a312c2265787465726e616c223a2266696c653a2f2f2f642533412f696e666f747261696e696e672f747261696e696e67732f70792f707974686f6e2d6164762d323032332d30392d32352f2e646576636f6e7461696e65722f646576636f6e7461696e65722e6a736f6e222c2270617468223a222f643a2f696e666f747261696e696e672f747261696e696e67732f70792f707974686f6e2d6164762d323032332d30392d32352f2e646576636f6e7461696e65722f646576636f6e7461696e65722e6a736f6e222c22736368656d65223a2266696c65227d7d/workspaces/python-adv-2023-09-25/code/classes.ipynb#Y360sdnNjb2RlLXJlbW90ZQ%3D%3D?line=8'>9</a>\u001b[0m     \u001b[39mraise\u001b[39;00m \u001b[39mAttributeError\u001b[39;00m(\u001b[39m\"\u001b[39m\u001b[39mAttribute is read-only\u001b[39m\u001b[39m\"\u001b[39m)\n",
      "\u001b[0;31mAttributeError\u001b[0m: Attribute is read-only"
     ]
    }
   ],
   "source": [
    "data1.data = 665"
   ]
  }
 ],
 "metadata": {
  "kernelspec": {
   "display_name": ".venv",
   "language": "python",
   "name": "python3"
  },
  "language_info": {
   "codemirror_mode": {
    "name": "ipython",
    "version": 3
   },
   "file_extension": ".py",
   "mimetype": "text/x-python",
   "name": "python",
   "nbconvert_exporter": "python",
   "pygments_lexer": "ipython3",
   "version": "3.11.5"
  },
  "orig_nbformat": 4
 },
 "nbformat": 4,
 "nbformat_minor": 2
}
