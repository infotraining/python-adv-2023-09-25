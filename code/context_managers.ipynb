{
 "cells": [
  {
   "cell_type": "markdown",
   "metadata": {},
   "source": [
    "# Context managers"
   ]
  },
  {
   "cell_type": "code",
   "execution_count": 1,
   "metadata": {},
   "outputs": [],
   "source": [
    "class Context:\n",
    "    def __init__(self):\n",
    "        print('__init__()')\n",
    "    \n",
    "    def __enter__(self):\n",
    "        print('__enter__()')\n",
    "        return self\n",
    "    \n",
    "    def __exit__(self, exc_type, exc_val, exc_tb):\n",
    "        print('__exit__()')"
   ]
  },
  {
   "cell_type": "code",
   "execution_count": 3,
   "metadata": {},
   "outputs": [
    {
     "name": "stdout",
     "output_type": "stream",
     "text": [
      "__init__()\n",
      "__enter__()\n",
      "Inside with statement\n",
      "__exit__()\n"
     ]
    }
   ],
   "source": [
    "with Context():\n",
    "    print(\"Inside with statement\")"
   ]
  },
  {
   "cell_type": "code",
   "execution_count": 5,
   "metadata": {},
   "outputs": [],
   "source": [
    "import sys\n",
    "\n",
    "def blackhole(*args, **kwargs):\n",
    "    pass\n",
    "\n",
    "class SuppressOutput:\n",
    "    def __enter__(self):\n",
    "        print('SuppressOutput.__enter__()')\n",
    "        self.write, sys.stdout.write = sys.stdout.write, blackhole\n",
    "        return self.write\n",
    "\n",
    "    def __exit__(self, exc_type, exc_val, exc_tb):\n",
    "        sys.stdout.write = self.write\n",
    "        print('SuppressOutput.__exit__()')"
   ]
  },
  {
   "cell_type": "code",
   "execution_count": 8,
   "metadata": {},
   "outputs": [
    {
     "name": "stdout",
     "output_type": "stream",
     "text": [
      "SuppressOutput.__enter__()\n",
      "It will be printed\n",
      "SuppressOutput.__exit__()\n"
     ]
    }
   ],
   "source": [
    "with SuppressOutput() as std_writer:\n",
    "    print(\"It won't be printed\")\n",
    "    std_writer(\"It will be printed\\n\")"
   ]
  },
  {
   "cell_type": "code",
   "execution_count": 9,
   "metadata": {},
   "outputs": [],
   "source": [
    "import traceback\n",
    "\n",
    "class Context:\n",
    "    def __enter__(self):\n",
    "        pass\n",
    "    \n",
    "    def __exit__(self, excpt_type, excpt_val, excpt_tb):\n",
    "        print(\"Exception type:\", excpt_type)\n",
    "        print(\"Exception value:\", excpt_val)\n",
    "        print(\"Traceback object:\", excpt_tb)\n",
    "        traceback.print_tb(excpt_tb)\n",
    "        return True  # or False"
   ]
  },
  {
   "cell_type": "code",
   "execution_count": 10,
   "metadata": {},
   "outputs": [
    {
     "name": "stdout",
     "output_type": "stream",
     "text": [
      "Exception type: None\n",
      "Exception value: None\n",
      "Traceback object: None\n"
     ]
    }
   ],
   "source": [
    "with Context():\n",
    "    x = 2"
   ]
  },
  {
   "cell_type": "code",
   "execution_count": 11,
   "metadata": {},
   "outputs": [
    {
     "name": "stdout",
     "output_type": "stream",
     "text": [
      "Exception type: <class 'ZeroDivisionError'>\n",
      "Exception value: division by zero\n",
      "Traceback object: <traceback object at 0x0000022E6A365680>\n"
     ]
    },
    {
     "name": "stderr",
     "output_type": "stream",
     "text": [
      "  File \"C:\\Users\\kp\\AppData\\Local\\Temp\\ipykernel_34600\\2937528807.py\", line 2, in <module>\n",
      "    x / 0\n",
      "    ~~^~~\n"
     ]
    }
   ],
   "source": [
    "with Context():\n",
    "    x / 0"
   ]
  },
  {
   "cell_type": "code",
   "execution_count": 12,
   "metadata": {},
   "outputs": [],
   "source": [
    "class BetterSuppressOutput(SuppressOutput):\n",
    "\n",
    "    def __exit__(self, exc_type, exc_val, exc_tb):\n",
    "        result = super().__exit__(exc_type, exc_val, exc_tb)\n",
    "        print(\"And now something completly different...\")\n",
    "        return result"
   ]
  },
  {
   "cell_type": "code",
   "execution_count": 13,
   "metadata": {},
   "outputs": [
    {
     "name": "stdout",
     "output_type": "stream",
     "text": [
      "SuppressOutput.__enter__()\n",
      "SuppressOutput.__exit__()\n",
      "And now something completly different...\n"
     ]
    }
   ],
   "source": [
    "with BetterSuppressOutput():\n",
    "    print(\"Hello\")"
   ]
  },
  {
   "cell_type": "markdown",
   "metadata": {},
   "source": [
    "# Dekoracja contextmanager"
   ]
  },
  {
   "cell_type": "code",
   "execution_count": 14,
   "metadata": {},
   "outputs": [
    {
     "name": "stdout",
     "output_type": "stream",
     "text": [
      "Going in\n",
      "Inside\n",
      "Coming out\n"
     ]
    }
   ],
   "source": [
    "from contextlib import contextmanager\n",
    "\n",
    "@contextmanager\n",
    "def Shouter():\n",
    "    print('Going in')\n",
    "    yield\n",
    "    print('Coming out')\n",
    "\n",
    "with Shouter():\n",
    "    print('Inside')"
   ]
  },
  {
   "cell_type": "code",
   "execution_count": 16,
   "metadata": {},
   "outputs": [],
   "source": [
    "@contextmanager\n",
    "def Shouter():\n",
    "    print('Going in')\n",
    "    try:\n",
    "        yield\n",
    "    except Exception as excpt:\n",
    "        print(f\"Error! {excpt}\")\n",
    "    else:\n",
    "        print('No error')"
   ]
  },
  {
   "cell_type": "code",
   "execution_count": 17,
   "metadata": {},
   "outputs": [
    {
     "name": "stdout",
     "output_type": "stream",
     "text": [
      "Going in\n",
      "Error! division by zero\n"
     ]
    }
   ],
   "source": [
    "with Shouter():\n",
    "    1 / 0"
   ]
  },
  {
   "cell_type": "code",
   "execution_count": null,
   "metadata": {},
   "outputs": [],
   "source": []
  }
 ],
 "metadata": {
  "kernelspec": {
   "display_name": ".venv",
   "language": "python",
   "name": "python3"
  },
  "language_info": {
   "codemirror_mode": {
    "name": "ipython",
    "version": 3
   },
   "file_extension": ".py",
   "mimetype": "text/x-python",
   "name": "python",
   "nbconvert_exporter": "python",
   "pygments_lexer": "ipython3",
   "version": "3.11.2"
  },
  "orig_nbformat": 4
 },
 "nbformat": 4,
 "nbformat_minor": 2
}
