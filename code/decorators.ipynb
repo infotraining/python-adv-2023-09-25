{
 "cells": [
  {
   "cell_type": "markdown",
   "metadata": {},
   "source": [
    "# Dekoratory"
   ]
  },
  {
   "cell_type": "code",
   "execution_count": 12,
   "metadata": {},
   "outputs": [],
   "source": [
    "import functools\n",
    "\n",
    "def shouter(func):\n",
    "\n",
    "    @functools.wraps(func)\n",
    "    def _shouter(*args, **kwargs):\n",
    "        print('-- Before call: ', func.__name__)\n",
    "        result = func(*args, **kwargs)\n",
    "        print('-- After call: ', func.__name__)\n",
    "        return result\n",
    "    \n",
    "    return _shouter"
   ]
  },
  {
   "cell_type": "code",
   "execution_count": 13,
   "metadata": {},
   "outputs": [],
   "source": [
    "from typing import Callable\n",
    "from typing import Any\n",
    "\n",
    "\n",
    "def disable(func):\n",
    "    \n",
    "    @functools.wraps(func)\n",
    "    def _disable(*args, **kwargs):\n",
    "        pass\n",
    "    return _disable"
   ]
  },
  {
   "cell_type": "code",
   "execution_count": 14,
   "metadata": {},
   "outputs": [],
   "source": [
    "@shouter\n",
    "@disable\n",
    "def foo(name: str):\n",
    "    \"\"\"foo function\"\"\"\n",
    "    print(f\"foo-{name}\")\n",
    "\n",
    "#foo = shouter(disable(foo)) # interpreter works like this"
   ]
  },
  {
   "cell_type": "code",
   "execution_count": 15,
   "metadata": {},
   "outputs": [
    {
     "name": "stdout",
     "output_type": "stream",
     "text": [
      "-- Before call:  foo\n",
      "-- After call:  foo\n"
     ]
    }
   ],
   "source": [
    "foo(\"Hello\")"
   ]
  },
  {
   "cell_type": "code",
   "execution_count": 16,
   "metadata": {},
   "outputs": [
    {
     "data": {
      "text/plain": [
       "'foo function'"
      ]
     },
     "execution_count": 16,
     "metadata": {},
     "output_type": "execute_result"
    }
   ],
   "source": [
    "foo.__doc__"
   ]
  },
  {
   "cell_type": "code",
   "execution_count": 17,
   "metadata": {},
   "outputs": [
    {
     "data": {
      "text/plain": [
       "'foo'"
      ]
     },
     "execution_count": 17,
     "metadata": {},
     "output_type": "execute_result"
    }
   ],
   "source": [
    "foo.__name__"
   ]
  },
  {
   "cell_type": "markdown",
   "metadata": {},
   "source": [
    "# Dekoratory z argumentami"
   ]
  },
  {
   "cell_type": "code",
   "execution_count": 18,
   "metadata": {},
   "outputs": [],
   "source": [
    "def tag(tagname): # factory of tag decorators\n",
    "\n",
    "    def tag_decorator(func):\n",
    "        \n",
    "        @functools.wraps(func)\n",
    "        def _tag_decorator(*args, **kwargs):\n",
    "            tag_before = f\"<{tagname}>\"\n",
    "            tag_after = f\"</{tagname}>\"\n",
    "            return tag_before + func(*args, **kwargs) + tag_after\n",
    "        \n",
    "        return _tag_decorator\n",
    "    \n",
    "    return tag_decorator"
   ]
  },
  {
   "cell_type": "code",
   "execution_count": 19,
   "metadata": {},
   "outputs": [],
   "source": [
    "@tag(\"div\")\n",
    "@tag(\"h1\")\n",
    "def get_html(content):\n",
    "    return content\n",
    "\n",
    "# get_text = tag(\"h1\")(get_text)"
   ]
  },
  {
   "cell_type": "code",
   "execution_count": 20,
   "metadata": {},
   "outputs": [
    {
     "data": {
      "text/plain": [
       "'<div><h1>Text</h1></div>'"
      ]
     },
     "execution_count": 20,
     "metadata": {},
     "output_type": "execute_result"
    }
   ],
   "source": [
    "get_html(\"Text\")"
   ]
  },
  {
   "cell_type": "code",
   "execution_count": 21,
   "metadata": {},
   "outputs": [
    {
     "data": {
      "text/plain": [
       "'<div><h1>Header</h1></div>'"
      ]
     },
     "execution_count": 21,
     "metadata": {},
     "output_type": "execute_result"
    }
   ],
   "source": [
    "get_html(\"Header\")"
   ]
  },
  {
   "cell_type": "code",
   "execution_count": 22,
   "metadata": {},
   "outputs": [],
   "source": [
    "def repeat(count):\n",
    "    \n",
    "    def repeat_decorator(func):\n",
    "\n",
    "        @functools.wraps(func)\n",
    "        def _repeat_decorator(*args, **kwargs):\n",
    "            for _ in range(count):\n",
    "                func(*args, **kwargs)\n",
    "        \n",
    "        return _repeat_decorator\n",
    "    \n",
    "    return repeat_decorator"
   ]
  },
  {
   "cell_type": "code",
   "execution_count": 23,
   "metadata": {},
   "outputs": [],
   "source": [
    "@repeat(3)\n",
    "def foo():\n",
    "    print('foo()')"
   ]
  },
  {
   "cell_type": "code",
   "execution_count": 24,
   "metadata": {},
   "outputs": [
    {
     "name": "stdout",
     "output_type": "stream",
     "text": [
      "foo()\n",
      "foo()\n",
      "foo()\n"
     ]
    }
   ],
   "source": [
    "foo()"
   ]
  },
  {
   "cell_type": "markdown",
   "metadata": {},
   "source": [
    "# Implementacja dekoratora za pomocą klasy"
   ]
  },
  {
   "cell_type": "code",
   "execution_count": 76,
   "metadata": {},
   "outputs": [],
   "source": [
    "class Debug:\n",
    "    def __init__(self, func: Callable) -> None:\n",
    "        self.function = func\n",
    "        functools.update_wrapper(self, func)\n",
    "\n",
    "    def __call__(self, *args, **kwargs):\n",
    "        result = self.function(*args, **kwargs)\n",
    "        name = self.function.__name__\n",
    "\n",
    "        print(f\"{name}({args!r}, {kwargs!r}): {result}\")"
   ]
  },
  {
   "cell_type": "code",
   "execution_count": 77,
   "metadata": {},
   "outputs": [],
   "source": [
    "@Debug\n",
    "def add(a, b):\n",
    "    return a + b\n",
    "\n",
    "# add = Debug(add)"
   ]
  },
  {
   "cell_type": "code",
   "execution_count": 79,
   "metadata": {},
   "outputs": [
    {
     "name": "stdout",
     "output_type": "stream",
     "text": [
      "add((8, 45), {}): 53\n"
     ]
    }
   ],
   "source": [
    "add(8, 45)"
   ]
  },
  {
   "cell_type": "code",
   "execution_count": 65,
   "metadata": {},
   "outputs": [],
   "source": [
    "class Repeat:\n",
    "    def __init__(self, count):\n",
    "        self.count = count\n",
    "\n",
    "    def __call__(self, func):\n",
    "\n",
    "        @functools.wraps(func)\n",
    "        def _repeat_decorator(*args, **kwargs):\n",
    "            for _ in range(self.count):\n",
    "                func(*args, **kwargs)\n",
    "        \n",
    "        return _repeat_decorator"
   ]
  },
  {
   "cell_type": "code",
   "execution_count": 69,
   "metadata": {},
   "outputs": [],
   "source": [
    "@Repeat(3)\n",
    "@repeat(2)\n",
    "def bar():\n",
    "    print('bar()')"
   ]
  },
  {
   "cell_type": "code",
   "execution_count": 70,
   "metadata": {},
   "outputs": [
    {
     "name": "stdout",
     "output_type": "stream",
     "text": [
      "bar()\n",
      "bar()\n",
      "bar()\n",
      "bar()\n",
      "bar()\n",
      "bar()\n"
     ]
    }
   ],
   "source": [
    "bar()"
   ]
  },
  {
   "cell_type": "code",
   "execution_count": 71,
   "metadata": {},
   "outputs": [
    {
     "data": {
      "text/plain": [
       "'bar'"
      ]
     },
     "execution_count": 71,
     "metadata": {},
     "output_type": "execute_result"
    }
   ],
   "source": [
    "bar.__name__"
   ]
  },
  {
   "cell_type": "markdown",
   "metadata": {},
   "source": [
    "# Rejestracja przy pomocy dekoratorów"
   ]
  },
  {
   "cell_type": "code",
   "execution_count": 26,
   "metadata": {},
   "outputs": [],
   "source": [
    "import collections\n",
    "\n",
    "\n",
    "class EventRegistry:\n",
    "    def __init__(self) -> None:\n",
    "        self.registry = collections.defaultdict(list)\n",
    "\n",
    "    def on(self, *events):\n",
    "        def on_decorator(func: Callable) -> Callable:\n",
    "            for event in events:\n",
    "                self.registry[event].append(func)\n",
    "            return func\n",
    "        return on_decorator\n",
    "    \n",
    "    def fire(self, event: str, *args, **kwargs):\n",
    "        for func in self.registry[event]:\n",
    "            func(*args, **kwargs)"
   ]
  },
  {
   "cell_type": "code",
   "execution_count": 27,
   "metadata": {},
   "outputs": [
    {
     "name": "stdout",
     "output_type": "stream",
     "text": [
      "Starting service Start me UP!!!\n",
      "Shutting down system\n"
     ]
    }
   ],
   "source": [
    "events = EventRegistry()\n",
    "\n",
    "@events.on('start', 'success')\n",
    "def start(service_name: str):\n",
    "    print(f'Starting service {service_name}')\n",
    "\n",
    "#start = events.on('start', 'success')(start)\n",
    "\n",
    "@events.on('error')\n",
    "def teardown():\n",
    "    print('Shutting down system')\n",
    "\n",
    "\n",
    "events.fire('start',\"Start me UP!!!\")\n",
    "events.fire('error')"
   ]
  }
 ],
 "metadata": {
  "kernelspec": {
   "display_name": ".venv",
   "language": "python",
   "name": "python3"
  },
  "language_info": {
   "codemirror_mode": {
    "name": "ipython",
    "version": 3
   },
   "file_extension": ".py",
   "mimetype": "text/x-python",
   "name": "python",
   "nbconvert_exporter": "python",
   "pygments_lexer": "ipython3",
   "version": "3.11.2"
  },
  "orig_nbformat": 4
 },
 "nbformat": 4,
 "nbformat_minor": 2
}
