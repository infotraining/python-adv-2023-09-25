{
 "cells": [
  {
   "cell_type": "markdown",
   "metadata": {},
   "source": [
    "# Metaklasy"
   ]
  },
  {
   "cell_type": "code",
   "execution_count": 33,
   "metadata": {},
   "outputs": [],
   "source": [
    "class MyClass(object, metaclass=type):\n",
    "    pass"
   ]
  },
  {
   "cell_type": "code",
   "execution_count": 34,
   "metadata": {},
   "outputs": [],
   "source": [
    "mc = MyClass()"
   ]
  },
  {
   "cell_type": "code",
   "execution_count": 35,
   "metadata": {},
   "outputs": [
    {
     "data": {
      "text/plain": [
       "__main__.MyClass"
      ]
     },
     "execution_count": 35,
     "metadata": {},
     "output_type": "execute_result"
    }
   ],
   "source": [
    "type(mc)"
   ]
  },
  {
   "cell_type": "code",
   "execution_count": 36,
   "metadata": {},
   "outputs": [
    {
     "data": {
      "text/plain": [
       "type"
      ]
     },
     "execution_count": 36,
     "metadata": {},
     "output_type": "execute_result"
    }
   ],
   "source": [
    "type(MyClass)"
   ]
  },
  {
   "cell_type": "markdown",
   "metadata": {},
   "source": [
    "## Statycznie utworzona klasa"
   ]
  },
  {
   "cell_type": "code",
   "execution_count": 6,
   "metadata": {},
   "outputs": [],
   "source": [
    "class Shape:\n",
    "    def draw(self):\n",
    "        pass\n",
    "\n",
    "class Rectangle(Shape):\n",
    "    _id = \"RECTANGLE\"\n",
    "\n",
    "    def __init__(self, width, height):\n",
    "        self.width = width\n",
    "        self.height = height        \n",
    "\n",
    "    def draw(self):\n",
    "        print(f'Drawing {Rectangle._id}({self.width}, {self.height})')"
   ]
  },
  {
   "cell_type": "code",
   "execution_count": 9,
   "metadata": {},
   "outputs": [
    {
     "name": "stdout",
     "output_type": "stream",
     "text": [
      "Drawing RECTANGLE(20, 40)\n"
     ]
    }
   ],
   "source": [
    "rect = Rectangle(20, 40)\n",
    "rect.draw()"
   ]
  },
  {
   "cell_type": "code",
   "execution_count": 10,
   "metadata": {},
   "outputs": [
    {
     "data": {
      "text/plain": [
       "type"
      ]
     },
     "execution_count": 10,
     "metadata": {},
     "output_type": "execute_result"
    }
   ],
   "source": [
    "type(Rectangle)"
   ]
  },
  {
   "cell_type": "code",
   "execution_count": 11,
   "metadata": {},
   "outputs": [
    {
     "data": {
      "text/plain": [
       "'Rectangle'"
      ]
     },
     "execution_count": 11,
     "metadata": {},
     "output_type": "execute_result"
    }
   ],
   "source": [
    "Rectangle.__name__"
   ]
  },
  {
   "cell_type": "markdown",
   "metadata": {},
   "source": [
    "## Dynamicznie utworzona klasa - type"
   ]
  },
  {
   "cell_type": "code",
   "execution_count": 18,
   "metadata": {},
   "outputs": [],
   "source": [
    "def rect_init(self, width, height):\n",
    "    self.width = width\n",
    "    self.height = height  \n",
    "\n",
    "TRectangle = type('TRectangle', (Shape, ), {\n",
    "    '_id': 'T_RECTANGLE',\n",
    "    '__init__': rect_init,\n",
    "    'draw' : lambda self : print(f'Drawing {Rectangle._id}({self.width}, {self.height})'),\n",
    "    '__doc__': \"\"\"This is dynamically created type\"\"\"\n",
    "})"
   ]
  },
  {
   "cell_type": "code",
   "execution_count": 19,
   "metadata": {},
   "outputs": [
    {
     "data": {
      "text/plain": [
       "type"
      ]
     },
     "execution_count": 19,
     "metadata": {},
     "output_type": "execute_result"
    }
   ],
   "source": [
    "type(TRectangle)"
   ]
  },
  {
   "cell_type": "code",
   "execution_count": 20,
   "metadata": {},
   "outputs": [
    {
     "data": {
      "text/plain": [
       "'TRectangle'"
      ]
     },
     "execution_count": 20,
     "metadata": {},
     "output_type": "execute_result"
    }
   ],
   "source": [
    "TRectangle.__name__"
   ]
  },
  {
   "cell_type": "code",
   "execution_count": 21,
   "metadata": {},
   "outputs": [
    {
     "data": {
      "text/plain": [
       "mappingproxy({'_id': 'T_RECTANGLE',\n",
       "              '__init__': <function __main__.rect_init(self, width, height)>,\n",
       "              'draw': <function __main__.<lambda>(self)>,\n",
       "              '__doc__': 'This is dynamically created type',\n",
       "              '__module__': '__main__'})"
      ]
     },
     "execution_count": 21,
     "metadata": {},
     "output_type": "execute_result"
    }
   ],
   "source": [
    "TRectangle.__dict__"
   ]
  },
  {
   "cell_type": "code",
   "execution_count": 22,
   "metadata": {},
   "outputs": [
    {
     "data": {
      "text/plain": [
       "(__main__.TRectangle, __main__.Shape, object)"
      ]
     },
     "execution_count": 22,
     "metadata": {},
     "output_type": "execute_result"
    }
   ],
   "source": [
    "TRectangle.__mro__"
   ]
  },
  {
   "cell_type": "code",
   "execution_count": 23,
   "metadata": {},
   "outputs": [],
   "source": [
    "rt = TRectangle(100, 200)"
   ]
  },
  {
   "cell_type": "code",
   "execution_count": 24,
   "metadata": {},
   "outputs": [
    {
     "name": "stdout",
     "output_type": "stream",
     "text": [
      "Drawing RECTANGLE(100, 200)\n"
     ]
    }
   ],
   "source": [
    "rt.draw()"
   ]
  },
  {
   "cell_type": "code",
   "execution_count": 27,
   "metadata": {},
   "outputs": [],
   "source": [
    "class ColorRectangle(TRectangle):\n",
    "    def __init__(self, w, h, color):\n",
    "        super().__init__(w, h)\n",
    "        self.color = color"
   ]
  },
  {
   "cell_type": "code",
   "execution_count": 28,
   "metadata": {},
   "outputs": [],
   "source": [
    "color_rect = ColorRectangle(10, 200, \"red\")"
   ]
  },
  {
   "cell_type": "code",
   "execution_count": 30,
   "metadata": {},
   "outputs": [
    {
     "data": {
      "text/plain": [
       "'red'"
      ]
     },
     "execution_count": 30,
     "metadata": {},
     "output_type": "execute_result"
    }
   ],
   "source": [
    "color_rect.color"
   ]
  },
  {
   "cell_type": "code",
   "execution_count": 32,
   "metadata": {},
   "outputs": [
    {
     "data": {
      "text/plain": [
       "10"
      ]
     },
     "execution_count": 32,
     "metadata": {},
     "output_type": "execute_result"
    }
   ],
   "source": [
    "color_rect.width"
   ]
  },
  {
   "cell_type": "markdown",
   "metadata": {},
   "source": [
    "# Metaklasa"
   ]
  },
  {
   "cell_type": "code",
   "execution_count": 37,
   "metadata": {},
   "outputs": [],
   "source": [
    "class MyClass(object, metaclass=type):\n",
    "    foo = 'bar'"
   ]
  },
  {
   "cell_type": "code",
   "execution_count": 38,
   "metadata": {},
   "outputs": [
    {
     "data": {
      "text/plain": [
       "'bar'"
      ]
     },
     "execution_count": 38,
     "metadata": {},
     "output_type": "execute_result"
    }
   ],
   "source": [
    "MyClass.foo"
   ]
  },
  {
   "cell_type": "markdown",
   "metadata": {},
   "source": [
    "## Funkcja jako metaklasa"
   ]
  },
  {
   "cell_type": "code",
   "execution_count": 50,
   "metadata": {},
   "outputs": [],
   "source": [
    "def attributes_to_upper(cls, parents, dict_attrs):\n",
    "    if \"Id\" in dict_attrs.keys():\n",
    "        raise AttributeError(\"Id attribute is not allowed\")\n",
    "    \n",
    "    _attrs = ((name.upper(), value)\n",
    "                for name, value in dict_attrs.items())\n",
    "    \n",
    "    attrs_upper = dict(_attrs)\n",
    "    return type(cls, parents, attrs_upper)"
   ]
  },
  {
   "cell_type": "code",
   "execution_count": 52,
   "metadata": {},
   "outputs": [],
   "source": [
    "class MyUpperClass(metaclass=attributes_to_upper):\n",
    "    foo = 'bar'\n",
    "    Name = 'Classy'\n",
    "    iD = 42"
   ]
  },
  {
   "cell_type": "code",
   "execution_count": 53,
   "metadata": {},
   "outputs": [
    {
     "data": {
      "text/plain": [
       "'bar'"
      ]
     },
     "execution_count": 53,
     "metadata": {},
     "output_type": "execute_result"
    }
   ],
   "source": [
    "MyUpperClass.FOO"
   ]
  },
  {
   "cell_type": "code",
   "execution_count": 54,
   "metadata": {},
   "outputs": [
    {
     "data": {
      "text/plain": [
       "'Classy'"
      ]
     },
     "execution_count": 54,
     "metadata": {},
     "output_type": "execute_result"
    }
   ],
   "source": [
    "MyUpperClass.NAME"
   ]
  },
  {
   "cell_type": "code",
   "execution_count": 55,
   "metadata": {},
   "outputs": [
    {
     "data": {
      "text/plain": [
       "42"
      ]
     },
     "execution_count": 55,
     "metadata": {},
     "output_type": "execute_result"
    }
   ],
   "source": [
    "MyUpperClass.ID"
   ]
  },
  {
   "cell_type": "code",
   "execution_count": 56,
   "metadata": {},
   "outputs": [
    {
     "data": {
      "text/plain": [
       "mappingproxy({'__MODULE__': '__main__',\n",
       "              '__QUALNAME__': 'MyUpperClass',\n",
       "              'FOO': 'bar',\n",
       "              'NAME': 'Classy',\n",
       "              'ID': 42,\n",
       "              '__module__': '__main__',\n",
       "              '__dict__': <attribute '__dict__' of 'MyUpperClass' objects>,\n",
       "              '__weakref__': <attribute '__weakref__' of 'MyUpperClass' objects>,\n",
       "              '__doc__': None})"
      ]
     },
     "execution_count": 56,
     "metadata": {},
     "output_type": "execute_result"
    }
   ],
   "source": [
    "MyUpperClass.__dict__"
   ]
  },
  {
   "cell_type": "code",
   "execution_count": null,
   "metadata": {},
   "outputs": [],
   "source": []
  },
  {
   "cell_type": "code",
   "execution_count": 61,
   "metadata": {},
   "outputs": [],
   "source": [
    "class NoIdInside(MyUpperClass, metaclass=attributes_to_upper):\n",
    "    Id = 665"
   ]
  },
  {
   "cell_type": "markdown",
   "metadata": {},
   "source": [
    "# Klasy jako metaklasy"
   ]
  },
  {
   "cell_type": "code",
   "execution_count": null,
   "metadata": {},
   "outputs": [],
   "source": [
    "class Metaclass(type):\n",
    "    @classmethod \n",
    "    def __prepare__(mcs, name, bases, **kwargs): \n",
    "        return super().__prepare__(name, bases, **kwargs)\n",
    "\n",
    "    def __new__(mcs, name, bases, class_dict):\n",
    "        return super().__new__(mcs, name, bases, class_dict)  \n",
    "    \n",
    "    def __init__(cls, name, bases, class_dict, **kwargs): \n",
    "        super().__init__(name, bases, class_dict) \n",
    "\n",
    "    def __call__(cls, *args, **kwargs): \n",
    "        return super().__call__(*args, **kwargs)"
   ]
  },
  {
   "cell_type": "code",
   "execution_count": 62,
   "metadata": {},
   "outputs": [],
   "source": [
    "class RevealingMeta(type): \n",
    "    \"\"\"Metaclass - reports steps of class creation\"\"\"\n",
    "    \n",
    "    def __new__(mcs, name, bases, namespace, **kwargs): \n",
    "        print(mcs, \"METACLASS __new__ called\") \n",
    "        return super().__new__(mcs, name, bases, namespace) \n",
    " \n",
    "    @classmethod \n",
    "    def __prepare__(mcs, name, bases, **kwargs): \n",
    "        print(mcs, \" METACLASS __prepare__ called\") \n",
    "        return super().__prepare__(mcs, name, bases, **kwargs) \n",
    " \n",
    "    def __init__(cls, name, bases, namespace, **kwargs): \n",
    "        print(cls, \" METACLASS __init__ called\") \n",
    "        super().__init__(name, bases, namespace) \n",
    " \n",
    "    def __call__(cls, *args, **kwargs): \n",
    "        print(cls, \" METACLASS __call__ called\") \n",
    "        return super().__call__(*args, **kwargs) "
   ]
  },
  {
   "cell_type": "code",
   "execution_count": 63,
   "metadata": {},
   "outputs": [
    {
     "name": "stdout",
     "output_type": "stream",
     "text": [
      "<class '__main__.RevealingMeta'>  METACLASS __prepare__ called\n",
      "<class '__main__.RevealingMeta'> METACLASS __new__ called\n",
      "<class '__main__.RevealingClass'>  METACLASS __init__ called\n"
     ]
    }
   ],
   "source": [
    "class RevealingClass(metaclass=RevealingMeta):\n",
    "    def __new__(cls):\n",
    "        print(cls, \"__new__ called\")\n",
    "        return super().__new__(cls)\n",
    "    \n",
    "    def __init__(self):\n",
    "        print(self, \"__init__ called\")\n",
    "        super().__init__()"
   ]
  },
  {
   "cell_type": "code",
   "execution_count": 64,
   "metadata": {},
   "outputs": [
    {
     "name": "stdout",
     "output_type": "stream",
     "text": [
      "<class '__main__.RevealingClass'>  METACLASS __call__ called\n",
      "<class '__main__.RevealingClass'> __new__ called\n",
      "<__main__.RevealingClass object at 0x000002A8A9456200> __init__ called\n"
     ]
    }
   ],
   "source": [
    "instance_rc = RevealingClass()"
   ]
  },
  {
   "cell_type": "markdown",
   "metadata": {},
   "source": [
    "## Przykłady metaklasy"
   ]
  },
  {
   "cell_type": "code",
   "execution_count": 65,
   "metadata": {},
   "outputs": [],
   "source": [
    "from typing import Any, Mapping\n",
    "import inflection\n",
    "\n",
    "class CaseInterpolationDict(dict):\n",
    "    def __setitem__(self, key, value):\n",
    "        super().__setitem__(key, value)\n",
    "        super().__setitem__(inflection.underscore(key), value)\n"
   ]
  },
  {
   "cell_type": "code",
   "execution_count": 66,
   "metadata": {},
   "outputs": [],
   "source": [
    "lookup_numbers = CaseInterpolationDict()"
   ]
  },
  {
   "cell_type": "code",
   "execution_count": 68,
   "metadata": {},
   "outputs": [],
   "source": [
    "lookup_numbers['one'] = 1\n",
    "lookup_numbers['TwentyOne'] = 21"
   ]
  },
  {
   "cell_type": "code",
   "execution_count": 69,
   "metadata": {},
   "outputs": [
    {
     "data": {
      "text/plain": [
       "{'one': 1, 'TwentyOne': 21, 'twenty_one': 21}"
      ]
     },
     "execution_count": 69,
     "metadata": {},
     "output_type": "execute_result"
    }
   ],
   "source": [
    "lookup_numbers"
   ]
  },
  {
   "cell_type": "code",
   "execution_count": 70,
   "metadata": {},
   "outputs": [],
   "source": [
    "class CaseInterpolatedAttributes(type):\n",
    "    \"\"\"Metaclass for names interpolation\"\"\"\n",
    "\n",
    "    @classmethod\n",
    "    def __prepare__(mcs, name, bases, **kwargs):\n",
    "        return CaseInterpolationDict()"
   ]
  },
  {
   "cell_type": "code",
   "execution_count": 71,
   "metadata": {},
   "outputs": [],
   "source": [
    "class InterpolatedNames(metaclass=CaseInterpolatedAttributes):\n",
    "    pass\n",
    "\n",
    "class User(InterpolatedNames):\n",
    "    IdUser = 42\n",
    "\n",
    "    def __init__(self, firstName: str, lastName: str):\n",
    "        self.firstName = firstName\n",
    "        self.lastName = lastName\n",
    "\n",
    "    def getDisplayName(self):\n",
    "        return f\"{self.firstName} {self.lastName}\"\n",
    "    \n",
    "    def greetUser(self):\n",
    "        return f\"Hello {self.getDisplayName()}!\"\n"
   ]
  },
  {
   "cell_type": "code",
   "execution_count": 72,
   "metadata": {},
   "outputs": [
    {
     "data": {
      "text/plain": [
       "42"
      ]
     },
     "execution_count": 72,
     "metadata": {},
     "output_type": "execute_result"
    }
   ],
   "source": [
    "User.id_user"
   ]
  },
  {
   "cell_type": "code",
   "execution_count": 73,
   "metadata": {},
   "outputs": [
    {
     "data": {
      "text/plain": [
       "42"
      ]
     },
     "execution_count": 73,
     "metadata": {},
     "output_type": "execute_result"
    }
   ],
   "source": [
    "User.IdUser"
   ]
  },
  {
   "cell_type": "code",
   "execution_count": 74,
   "metadata": {},
   "outputs": [],
   "source": [
    "admin = User(\"Jan\", \"Kowalski\")"
   ]
  },
  {
   "cell_type": "code",
   "execution_count": 75,
   "metadata": {},
   "outputs": [
    {
     "data": {
      "text/plain": [
       "'Jan Kowalski'"
      ]
     },
     "execution_count": 75,
     "metadata": {},
     "output_type": "execute_result"
    }
   ],
   "source": [
    "admin.get_display_name()"
   ]
  },
  {
   "cell_type": "markdown",
   "metadata": {},
   "source": [
    "# Jak działa namedtuple?"
   ]
  },
  {
   "cell_type": "code",
   "execution_count": 76,
   "metadata": {},
   "outputs": [],
   "source": [
    "from collections import namedtuple\n",
    "\n",
    "Point = namedtuple('Point', 'x, y')"
   ]
  },
  {
   "cell_type": "code",
   "execution_count": 77,
   "metadata": {},
   "outputs": [
    {
     "data": {
      "text/plain": [
       "mappingproxy({'__doc__': 'Point(x, y)',\n",
       "              '__slots__': (),\n",
       "              '_fields': ('x', 'y'),\n",
       "              '_field_defaults': {},\n",
       "              '__new__': <staticmethod(<function Point.__new__ at 0x000002A8AAEA76D0>)>,\n",
       "              '_make': <classmethod(<function Point._make at 0x000002A8AAEA7760>)>,\n",
       "              '_replace': <function collections.Point._replace(self, /, **kwds)>,\n",
       "              '__repr__': <function collections.Point.__repr__(self)>,\n",
       "              '_asdict': <function collections.Point._asdict(self)>,\n",
       "              '__getnewargs__': <function collections.Point.__getnewargs__(self)>,\n",
       "              '__match_args__': ('x', 'y'),\n",
       "              'x': _tuplegetter(0, 'Alias for field number 0'),\n",
       "              'y': _tuplegetter(1, 'Alias for field number 1'),\n",
       "              '__module__': '__main__'})"
      ]
     },
     "execution_count": 77,
     "metadata": {},
     "output_type": "execute_result"
    }
   ],
   "source": [
    "Point.__dict__"
   ]
  },
  {
   "cell_type": "code",
   "execution_count": 78,
   "metadata": {},
   "outputs": [],
   "source": [
    "pt = Point(10, 20)"
   ]
  },
  {
   "cell_type": "code",
   "execution_count": 79,
   "metadata": {},
   "outputs": [
    {
     "data": {
      "text/plain": [
       "Point(x=10, y=20)"
      ]
     },
     "execution_count": 79,
     "metadata": {},
     "output_type": "execute_result"
    }
   ],
   "source": [
    "pt"
   ]
  },
  {
   "cell_type": "code",
   "execution_count": 80,
   "metadata": {},
   "outputs": [],
   "source": [
    "from typing import Iterable, Iterator, Union\n",
    "\n",
    "\n",
    "FieldNames = Union[str, Iterable[str]]"
   ]
  },
  {
   "cell_type": "code",
   "execution_count": 84,
   "metadata": {},
   "outputs": [],
   "source": [
    "def parse_identifiers(names: FieldNames) -> tuple[str, ...]:\n",
    "    if isinstance(names, str):\n",
    "        names = names.replace(',', ' ').split()\n",
    "\n",
    "    if not all(s.isidentifier() for s in names):\n",
    "        raise ValueError('names must all be valid identifiers')\n",
    "\n",
    "    return tuple(names)"
   ]
  },
  {
   "cell_type": "code",
   "execution_count": 85,
   "metadata": {},
   "outputs": [
    {
     "data": {
      "text/plain": [
       "('x', 'y')"
      ]
     },
     "execution_count": 85,
     "metadata": {},
     "output_type": "execute_result"
    }
   ],
   "source": [
    "parse_identifiers('x, y')"
   ]
  },
  {
   "cell_type": "code",
   "execution_count": 86,
   "metadata": {},
   "outputs": [],
   "source": [
    "def struct_factory(cls_name: str, field_names: str):\n",
    "    slots = parse_identifiers(field_names)\n",
    "\n",
    "    def __init__(self, *args, **kwargs) -> None:\n",
    "        attrs = dict(zip(self.__slots__, args))\n",
    "        attrs.update(kwargs)\n",
    "\n",
    "        for name, value in attrs.items():\n",
    "            setattr(self, name, value)\n",
    "\n",
    "    def __iter__(self) -> Iterator[Any]:\n",
    "        for name in self.__slots__:\n",
    "            yield getattr(self, name)\n",
    "\n",
    "    def __repr__(self):\n",
    "        values = ', '.join(f\"{name}={value!r}\" for name,\n",
    "                           value in zip(self.__slots__, self))\n",
    "        cls_name = self.__class__.__name__\n",
    "        return f\"{cls_name}({values})\"\n",
    "\n",
    "    cls_attrs = dict(\n",
    "        __slots__ = slots,\n",
    "        __init__ = __init__,\n",
    "        __repr__ = __repr__,\n",
    "        __iter__ = __iter__\n",
    "    )\n",
    "\n",
    "    return type(cls_name, (object, ), cls_attrs)"
   ]
  },
  {
   "cell_type": "code",
   "execution_count": 87,
   "metadata": {},
   "outputs": [],
   "source": [
    "Point = struct_factory('Point', 'x, y')"
   ]
  },
  {
   "cell_type": "code",
   "execution_count": 88,
   "metadata": {},
   "outputs": [],
   "source": [
    "pt = Point(10, 20)"
   ]
  },
  {
   "cell_type": "code",
   "execution_count": 89,
   "metadata": {},
   "outputs": [
    {
     "data": {
      "text/plain": [
       "10"
      ]
     },
     "execution_count": 89,
     "metadata": {},
     "output_type": "execute_result"
    }
   ],
   "source": [
    "pt.x"
   ]
  },
  {
   "cell_type": "code",
   "execution_count": 90,
   "metadata": {},
   "outputs": [
    {
     "data": {
      "text/plain": [
       "20"
      ]
     },
     "execution_count": 90,
     "metadata": {},
     "output_type": "execute_result"
    }
   ],
   "source": [
    "pt.y"
   ]
  },
  {
   "cell_type": "code",
   "execution_count": 91,
   "metadata": {},
   "outputs": [
    {
     "data": {
      "text/plain": [
       "Point(x=10, y=20)"
      ]
     },
     "execution_count": 91,
     "metadata": {},
     "output_type": "execute_result"
    }
   ],
   "source": [
    "pt"
   ]
  },
  {
   "cell_type": "code",
   "execution_count": 92,
   "metadata": {},
   "outputs": [
    {
     "name": "stdout",
     "output_type": "stream",
     "text": [
      "10\n",
      "20\n"
     ]
    }
   ],
   "source": [
    "for i in pt:\n",
    "    print(i)"
   ]
  },
  {
   "cell_type": "code",
   "execution_count": 93,
   "metadata": {},
   "outputs": [],
   "source": [
    "pt.x = 30"
   ]
  },
  {
   "cell_type": "code",
   "execution_count": 94,
   "metadata": {},
   "outputs": [
    {
     "data": {
      "text/plain": [
       "30"
      ]
     },
     "execution_count": 94,
     "metadata": {},
     "output_type": "execute_result"
    }
   ],
   "source": [
    "pt.x"
   ]
  },
  {
   "cell_type": "markdown",
   "metadata": {},
   "source": [
    "# Jak działa NamedTuple?"
   ]
  },
  {
   "cell_type": "code",
   "execution_count": 95,
   "metadata": {},
   "outputs": [],
   "source": [
    "from typing import NamedTuple"
   ]
  },
  {
   "cell_type": "code",
   "execution_count": 96,
   "metadata": {},
   "outputs": [],
   "source": [
    "class Employee(NamedTuple):\n",
    "    name: str\n",
    "    id: int"
   ]
  },
  {
   "cell_type": "code",
   "execution_count": 97,
   "metadata": {},
   "outputs": [
    {
     "data": {
      "text/plain": [
       "mappingproxy({'__doc__': 'Employee(name, id)',\n",
       "              '__slots__': (),\n",
       "              '_fields': ('name', 'id'),\n",
       "              '_field_defaults': {},\n",
       "              '__new__': <staticmethod(<function Employee.__new__ at 0x000002A8AAEA7B50>)>,\n",
       "              '_make': <classmethod(<function Employee._make at 0x000002A8AAEA5C60>)>,\n",
       "              '_replace': <function collections.Employee._replace(self, /, **kwds)>,\n",
       "              '__repr__': <function collections.Employee.__repr__(self)>,\n",
       "              '_asdict': <function collections.Employee._asdict(self)>,\n",
       "              '__getnewargs__': <function collections.Employee.__getnewargs__(self)>,\n",
       "              '__match_args__': ('name', 'id'),\n",
       "              'name': _tuplegetter(0, 'Alias for field number 0'),\n",
       "              'id': _tuplegetter(1, 'Alias for field number 1'),\n",
       "              '__module__': '__main__',\n",
       "              '__annotations__': {'name': str, 'id': int},\n",
       "              '__orig_bases__': (<function typing.NamedTuple(typename, fields=None, /, **kwargs)>,)})"
      ]
     },
     "execution_count": 97,
     "metadata": {},
     "output_type": "execute_result"
    }
   ],
   "source": [
    "Employee.__dict__"
   ]
  },
  {
   "cell_type": "code",
   "execution_count": 98,
   "metadata": {},
   "outputs": [],
   "source": [
    "emp = Employee(\"Jan\", 665)"
   ]
  },
  {
   "cell_type": "code",
   "execution_count": 99,
   "metadata": {},
   "outputs": [
    {
     "data": {
      "text/plain": [
       "Employee(name='Jan', id=665)"
      ]
     },
     "execution_count": 99,
     "metadata": {},
     "output_type": "execute_result"
    }
   ],
   "source": [
    "emp"
   ]
  },
  {
   "cell_type": "code",
   "execution_count": 100,
   "metadata": {},
   "outputs": [],
   "source": [
    "class MetaRecord(type):\n",
    "    \"\"\"Metaclass for all records\"\"\"\n",
    "    \n",
    "    def __new__(mcl, classname, bases, classdict):\n",
    "        \n",
    "        # Define as local functions __init__ & __repr__ that we'll use \n",
    "        # in the new class\n",
    "        def __init__(self, **kwargs):\n",
    "            \"\"\"__init__ is simple: first, set attributes without\n",
    "               explicit values to their defaults; then, set those\n",
    "               explicitly passed in kw.\n",
    "            \"\"\"\n",
    "            for k in self.__dflts__:\n",
    "                if not k in kwargs:\n",
    "                    setattr(self, k, self.__dflts__[k])\n",
    "            for k in kwargs:\n",
    "                setattr(self, k, kwargs[k])\n",
    "\n",
    "        def __repr__(self):\n",
    "            \"\"\"__repr__ is minimal: shows only attributes that\n",
    "               differ from default values, for compactness.\n",
    "            \"\"\"\n",
    "            rep = [f'{k}={getattr(self, k)!r}' for k in self.__dflts__ if getattr(self, k) != self.__dflts__[k]]\n",
    "            return f\"{classname}({', '.join(rep)})\"\n",
    "        \n",
    "        newdict = { \n",
    "            '__slots__': [], \n",
    "            '__dflts__': {},\n",
    "            '__init__' : __init__, \n",
    "            '__repr__' : __repr__,\n",
    "        }\n",
    "        \n",
    "        for k in classdict:\n",
    "            if k.startswith('__') and k.endswith('__'):\n",
    "                if k in newdict:\n",
    "                    warnings.warn(f\"Cannot set attr {k!r} in bunch-class {classname!r}\")\n",
    "                else:\n",
    "                    newdict[k] = classdict[k]\n",
    "            else:\n",
    "                newdict['__slots__'].append(k)\n",
    "                newdict['__dflts__'][k] = classdict[k]\n",
    "\n",
    "        return super().__new__(mcl, classname, bases, newdict)\n",
    "\n",
    "\n",
    "class Record(metaclass=MetaRecord):\n",
    "    pass"
   ]
  },
  {
   "cell_type": "code",
   "execution_count": 113,
   "metadata": {},
   "outputs": [],
   "source": [
    "class Pixel(Record):\n",
    "    x = 0\n",
    "    y = 0\n",
    "    color = 'red'"
   ]
  },
  {
   "cell_type": "code",
   "execution_count": 102,
   "metadata": {},
   "outputs": [
    {
     "data": {
      "text/plain": [
       "mappingproxy({'__slots__': ['x', 'y', 'color'],\n",
       "              '__dflts__': {'x': 0, 'y': 0, 'color': 'red'},\n",
       "              '__init__': <function __main__.MetaRecord.__new__.<locals>.__init__(self, **kwargs)>,\n",
       "              '__repr__': <function __main__.MetaRecord.__new__.<locals>.__repr__(self)>,\n",
       "              '__module__': '__main__',\n",
       "              'color': <member 'color' of 'Pixel' objects>,\n",
       "              'x': <member 'x' of 'Pixel' objects>,\n",
       "              'y': <member 'y' of 'Pixel' objects>,\n",
       "              '__doc__': None})"
      ]
     },
     "execution_count": 102,
     "metadata": {},
     "output_type": "execute_result"
    }
   ],
   "source": [
    "Pixel.__dict__"
   ]
  },
  {
   "cell_type": "code",
   "execution_count": 108,
   "metadata": {},
   "outputs": [],
   "source": [
    "px = Pixel(x=10, y=20, color=\"blue\")"
   ]
  },
  {
   "cell_type": "code",
   "execution_count": 109,
   "metadata": {},
   "outputs": [
    {
     "data": {
      "text/plain": [
       "'blue'"
      ]
     },
     "execution_count": 109,
     "metadata": {},
     "output_type": "execute_result"
    }
   ],
   "source": [
    "px.color"
   ]
  },
  {
   "cell_type": "code",
   "execution_count": 111,
   "metadata": {},
   "outputs": [
    {
     "data": {
      "text/plain": [
       "Pixel(x=10, y=20, color='blue')"
      ]
     },
     "execution_count": 111,
     "metadata": {},
     "output_type": "execute_result"
    }
   ],
   "source": [
    "px"
   ]
  },
  {
   "cell_type": "markdown",
   "metadata": {},
   "source": [
    "# ABC i metaklasy"
   ]
  },
  {
   "cell_type": "code",
   "execution_count": 121,
   "metadata": {},
   "outputs": [],
   "source": [
    "def abstractmethod(function):\n",
    "    function.__abstract__ = True\n",
    "    return function "
   ]
  },
  {
   "cell_type": "code",
   "execution_count": 124,
   "metadata": {},
   "outputs": [
    {
     "name": "stdout",
     "output_type": "stream",
     "text": [
      "__new__(<class '__main__.AbstractMeta'>, MyAbc, (), {'__module__': '__main__', '__qualname__': 'MyAbc'})\n"
     ]
    }
   ],
   "source": [
    "import functools\n",
    "\n",
    "\n",
    "class AbstractMeta(type):\n",
    "    def __new__(metaclass, name, bases, namespace):\n",
    "        # Create the class instance\n",
    "        print(f\"__new__({metaclass}, {name}, {bases!r}, {namespace!r})\")\n",
    "        cls = super().__new__(metaclass, name, bases, namespace)\n",
    "\n",
    "        # Collect all local method marked as abstract\n",
    "        abstracts = set()\n",
    "        for k, v in namespace.items():\n",
    "            if getattr(v, '__abstract__', False):\n",
    "                abstracts.add(k)\n",
    "\n",
    "        # Look for abstract methods in the base classes and add them to the list of abstracts\n",
    "        for base in bases:\n",
    "            for k in getattr(base, '__abstracts__', ()):\n",
    "                v = getattr(cls, k, None)\n",
    "                if getattr(v, '__abstract__', False):\n",
    "                    abstracts.add(k)\n",
    "\n",
    "        # Store the abstracts in a frozenset so the cannot be modified\n",
    "        cls.__abstracts__ = frozenset(abstracts)\n",
    "\n",
    "        # Decorate the __new__ function to check if all abstract functions were implemented\n",
    "        original_new = cls.__new__\n",
    "        @functools.wraps(original_new)\n",
    "        def new(self, *args, **kwargs):\n",
    "            for k in self.__abstracts__:\n",
    "                v = getattr(self, k)\n",
    "                if getattr(v, '__abstract__', False):\n",
    "                    raise RuntimeError(f'{k} is not implemented')\n",
    "            return original_new(self, *args, **kwargs)\n",
    "        \n",
    "        cls.__new__ = new\n",
    "        return cls\n",
    "    \n",
    "class MyAbc(metaclass=AbstractMeta):\n",
    "    pass"
   ]
  },
  {
   "cell_type": "code",
   "execution_count": 129,
   "metadata": {},
   "outputs": [
    {
     "name": "stdout",
     "output_type": "stream",
     "text": [
      "__new__(<class '__main__.AbstractMeta'>, Shape, (<class '__main__.MyAbc'>,), {'__module__': '__main__', '__qualname__': 'Shape', 'draw': <function Shape.draw at 0x000002A8AB003490>})\n",
      "__new__(<class '__main__.AbstractMeta'>, RotableShape, (<class '__main__.Shape'>,), {'__module__': '__main__', '__qualname__': 'RotableShape', 'rotate': <function RotableShape.rotate at 0x000002A8AB0D45E0>, 'draw': <function RotableShape.draw at 0x000002A8AB0D40D0>})\n",
      "__new__(<class '__main__.AbstractMeta'>, Rectangle, (<class '__main__.RotableShape'>,), {'__module__': '__main__', '__qualname__': 'Rectangle', 'rotate': <function Rectangle.rotate at 0x000002A8AB0D4430>})\n"
     ]
    }
   ],
   "source": [
    "class Shape(MyAbc):\n",
    "\n",
    "    @abstractmethod\n",
    "    def draw(self) -> None:\n",
    "        pass\n",
    "\n",
    "class RotableShape(Shape):\n",
    "    @abstractmethod\n",
    "    def rotate(self, angle):\n",
    "        pass\n",
    "\n",
    "    def draw(self):\n",
    "        print(\"Drawing shape\")\n",
    "\n",
    "class Rectangle(RotableShape):\n",
    "    pass\n",
    "    # def rotate(self, angle):\n",
    "    #     print(\"Rotate rectangle\")\n",
    "\n",
    "r = Rectangle()"
   ]
  },
  {
   "cell_type": "code",
   "execution_count": null,
   "metadata": {},
   "outputs": [],
   "source": []
  }
 ],
 "metadata": {
  "kernelspec": {
   "display_name": ".venv",
   "language": "python",
   "name": "python3"
  },
  "language_info": {
   "codemirror_mode": {
    "name": "ipython",
    "version": 3
   },
   "file_extension": ".py",
   "mimetype": "text/x-python",
   "name": "python",
   "nbconvert_exporter": "python",
   "pygments_lexer": "ipython3",
   "version": "3.10.2"
  },
  "orig_nbformat": 4
 },
 "nbformat": 4,
 "nbformat_minor": 2
}
