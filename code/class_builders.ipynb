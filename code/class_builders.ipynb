{
 "cells": [
  {
   "cell_type": "code",
   "execution_count": 89,
   "metadata": {},
   "outputs": [],
   "source": [
    "from collections import namedtuple\n",
    "import typing\n",
    "\n",
    "Point = namedtuple('Point', 'x,y')"
   ]
  },
  {
   "cell_type": "code",
   "execution_count": 90,
   "metadata": {},
   "outputs": [],
   "source": [
    "pt = Point(10, 20)"
   ]
  },
  {
   "cell_type": "code",
   "execution_count": 91,
   "metadata": {},
   "outputs": [
    {
     "data": {
      "text/plain": [
       "10"
      ]
     },
     "execution_count": 91,
     "metadata": {},
     "output_type": "execute_result"
    }
   ],
   "source": [
    "pt.x"
   ]
  },
  {
   "cell_type": "code",
   "execution_count": 92,
   "metadata": {},
   "outputs": [
    {
     "data": {
      "text/plain": [
       "20"
      ]
     },
     "execution_count": 92,
     "metadata": {},
     "output_type": "execute_result"
    }
   ],
   "source": [
    "pt.y"
   ]
  },
  {
   "cell_type": "code",
   "execution_count": 93,
   "metadata": {},
   "outputs": [
    {
     "data": {
      "text/plain": [
       "Point(x=10, y=20)"
      ]
     },
     "execution_count": 93,
     "metadata": {},
     "output_type": "execute_result"
    }
   ],
   "source": [
    "pt"
   ]
  },
  {
   "cell_type": "code",
   "execution_count": 94,
   "metadata": {},
   "outputs": [
    {
     "name": "stdout",
     "output_type": "stream",
     "text": [
      "Point(x=10, y=20)\n"
     ]
    }
   ],
   "source": [
    "print(pt)"
   ]
  },
  {
   "cell_type": "code",
   "execution_count": 95,
   "metadata": {},
   "outputs": [],
   "source": [
    "from typing import NamedTuple\n",
    "\n",
    "\n",
    "class Employee(NamedTuple):\n",
    "    id: int\n",
    "    name: str\n",
    "\n",
    "    def print(self):\n",
    "        print(f\"Employee: {self.id} - {self.name}\")"
   ]
  },
  {
   "cell_type": "code",
   "execution_count": 96,
   "metadata": {},
   "outputs": [],
   "source": [
    "emp1 = Employee(42, \"Jan Kowalski\")"
   ]
  },
  {
   "cell_type": "code",
   "execution_count": 97,
   "metadata": {},
   "outputs": [
    {
     "data": {
      "text/plain": [
       "Employee(id=42, name='Jan Kowalski')"
      ]
     },
     "execution_count": 97,
     "metadata": {},
     "output_type": "execute_result"
    }
   ],
   "source": [
    "emp1"
   ]
  },
  {
   "cell_type": "code",
   "execution_count": 98,
   "metadata": {},
   "outputs": [
    {
     "name": "stdout",
     "output_type": "stream",
     "text": [
      "Employee: 42 - Jan Kowalski\n"
     ]
    }
   ],
   "source": [
    "emp1.print()"
   ]
  },
  {
   "cell_type": "code",
   "execution_count": 99,
   "metadata": {},
   "outputs": [],
   "source": [
    "from dataclasses import dataclass, field\n",
    "from typing import ClassVar, List\n",
    "\n",
    "@dataclass(order=True)\n",
    "class LineItem:\n",
    "    name: str\n",
    "    unit_price: float\n",
    "    quantity: int = 0\n",
    "    comments: List[str] = field(compare=False, default_factory=list)\n",
    "    count: ClassVar[int] = 0\n",
    "\n",
    "    def __new__(cls, *args, **kwargs):\n",
    "        cls.count += 1\n",
    "        return super().__new__(cls)\n",
    "\n",
    "    def total(self) -> float:\n",
    "        return self.unit_price * self.quantity"
   ]
  },
  {
   "cell_type": "code",
   "execution_count": 100,
   "metadata": {},
   "outputs": [
    {
     "data": {
      "text/plain": [
       "mappingproxy({'__module__': '__main__',\n",
       "              '__annotations__': {'name': str,\n",
       "               'unit_price': float,\n",
       "               'quantity': int,\n",
       "               'comments': typing.List[str],\n",
       "               'count': typing.ClassVar[int]},\n",
       "              'quantity': 0,\n",
       "              'count': 0,\n",
       "              '__new__': <staticmethod(<function LineItem.__new__ at 0x0000022B7B456B60>)>,\n",
       "              'total': <function __main__.LineItem.total(self) -> float>,\n",
       "              '__dict__': <attribute '__dict__' of 'LineItem' objects>,\n",
       "              '__weakref__': <attribute '__weakref__' of 'LineItem' objects>,\n",
       "              '__doc__': 'LineItem(*args, **kwargs)',\n",
       "              '__dataclass_params__': _DataclassParams(init=True,repr=True,eq=True,order=True,unsafe_hash=False,frozen=False),\n",
       "              '__dataclass_fields__': {'name': Field(name='name',type=<class 'str'>,default=<dataclasses._MISSING_TYPE object at 0x0000022B77EB6850>,default_factory=<dataclasses._MISSING_TYPE object at 0x0000022B77EB6850>,init=True,repr=True,hash=None,compare=True,metadata=mappingproxy({}),kw_only=False,_field_type=_FIELD),\n",
       "               'unit_price': Field(name='unit_price',type=<class 'float'>,default=<dataclasses._MISSING_TYPE object at 0x0000022B77EB6850>,default_factory=<dataclasses._MISSING_TYPE object at 0x0000022B77EB6850>,init=True,repr=True,hash=None,compare=True,metadata=mappingproxy({}),kw_only=False,_field_type=_FIELD),\n",
       "               'quantity': Field(name='quantity',type=<class 'int'>,default=0,default_factory=<dataclasses._MISSING_TYPE object at 0x0000022B77EB6850>,init=True,repr=True,hash=None,compare=True,metadata=mappingproxy({}),kw_only=False,_field_type=_FIELD),\n",
       "               'comments': Field(name='comments',type=typing.List[str],default=<dataclasses._MISSING_TYPE object at 0x0000022B77EB6850>,default_factory=<class 'list'>,init=True,repr=True,hash=None,compare=False,metadata=mappingproxy({}),kw_only=False,_field_type=_FIELD),\n",
       "               'count': Field(name='count',type=typing.ClassVar[int],default=0,default_factory=<dataclasses._MISSING_TYPE object at 0x0000022B77EB6850>,init=True,repr=True,hash=None,compare=True,metadata=mappingproxy({}),kw_only=<dataclasses._MISSING_TYPE object at 0x0000022B77EB6850>,_field_type=_FIELD_CLASSVAR)},\n",
       "              '__init__': <function __main__.LineItem.__init__(self, name: str, unit_price: float, quantity: int = 0, comments: List[str] = <factory>) -> None>,\n",
       "              '__repr__': <function __main__.LineItem.__repr__(self)>,\n",
       "              '__eq__': <function __main__.LineItem.__eq__(self, other)>,\n",
       "              '__lt__': <function __main__.LineItem.__lt__(self, other)>,\n",
       "              '__le__': <function __main__.LineItem.__le__(self, other)>,\n",
       "              '__gt__': <function __main__.LineItem.__gt__(self, other)>,\n",
       "              '__ge__': <function __main__.LineItem.__ge__(self, other)>,\n",
       "              '__hash__': None,\n",
       "              '__match_args__': ('name',\n",
       "               'unit_price',\n",
       "               'quantity',\n",
       "               'comments')})"
      ]
     },
     "execution_count": 100,
     "metadata": {},
     "output_type": "execute_result"
    }
   ],
   "source": [
    "LineItem.__dict__"
   ]
  },
  {
   "cell_type": "code",
   "execution_count": 101,
   "metadata": {},
   "outputs": [],
   "source": [
    "item1 = LineItem(\"ipad\", 999.99, 1)"
   ]
  },
  {
   "cell_type": "code",
   "execution_count": 102,
   "metadata": {},
   "outputs": [
    {
     "data": {
      "text/plain": [
       "LineItem(name='ipad', unit_price=999.99, quantity=1, comments=[])"
      ]
     },
     "execution_count": 102,
     "metadata": {},
     "output_type": "execute_result"
    }
   ],
   "source": [
    "item1"
   ]
  },
  {
   "cell_type": "code",
   "execution_count": 103,
   "metadata": {},
   "outputs": [
    {
     "name": "stdout",
     "output_type": "stream",
     "text": [
      "LineItem(name='ipad', unit_price=999.99, quantity=1, comments=[])\n"
     ]
    }
   ],
   "source": [
    "print(item1)"
   ]
  },
  {
   "cell_type": "code",
   "execution_count": 104,
   "metadata": {},
   "outputs": [
    {
     "ename": "TypeError",
     "evalue": "unhashable type: 'LineItem'",
     "output_type": "error",
     "traceback": [
      "\u001b[1;31m---------------------------------------------------------------------------\u001b[0m",
      "\u001b[1;31mTypeError\u001b[0m                                 Traceback (most recent call last)",
      "\u001b[1;32md:\\infotraining\\trainings\\py\\python-adv-2023-09-25\\code\\class_builders.ipynb Cell 16\u001b[0m line \u001b[0;36m1\n\u001b[1;32m----> <a href='vscode-notebook-cell:/d%3A/infotraining/trainings/py/python-adv-2023-09-25/code/class_builders.ipynb#X24sZmlsZQ%3D%3D?line=0'>1</a>\u001b[0m \u001b[39mhash\u001b[39;49m(item1)\n",
      "\u001b[1;31mTypeError\u001b[0m: unhashable type: 'LineItem'"
     ]
    }
   ],
   "source": [
    "hash(item1)"
   ]
  },
  {
   "cell_type": "code",
   "execution_count": null,
   "metadata": {},
   "outputs": [
    {
     "ename": "FrozenInstanceError",
     "evalue": "cannot assign to field 'quantity'",
     "output_type": "error",
     "traceback": [
      "\u001b[1;31m---------------------------------------------------------------------------\u001b[0m",
      "\u001b[1;31mFrozenInstanceError\u001b[0m                       Traceback (most recent call last)",
      "\u001b[1;32md:\\infotraining\\trainings\\py\\python-adv-2023-09-25\\code\\class_builders.ipynb Cell 15\u001b[0m line \u001b[0;36m1\n\u001b[1;32m----> <a href='vscode-notebook-cell:/d%3A/infotraining/trainings/py/python-adv-2023-09-25/code/class_builders.ipynb#X20sZmlsZQ%3D%3D?line=0'>1</a>\u001b[0m item1\u001b[39m.\u001b[39;49mquantity \u001b[39m=\u001b[39m \u001b[39m2\u001b[39m\n",
      "File \u001b[1;32m<string>:4\u001b[0m, in \u001b[0;36m__setattr__\u001b[1;34m(self, name, value)\u001b[0m\n",
      "\u001b[1;31mFrozenInstanceError\u001b[0m: cannot assign to field 'quantity'"
     ]
    }
   ],
   "source": [
    "item1.quantity = 2"
   ]
  },
  {
   "cell_type": "code",
   "execution_count": null,
   "metadata": {},
   "outputs": [
    {
     "data": {
      "text/plain": [
       "LineItem(name='ipad', unit_price=999.99, quantity=1)"
      ]
     },
     "execution_count": 37,
     "metadata": {},
     "output_type": "execute_result"
    }
   ],
   "source": [
    "item1"
   ]
  },
  {
   "cell_type": "code",
   "execution_count": null,
   "metadata": {},
   "outputs": [
    {
     "data": {
      "text/plain": [
       "False"
      ]
     },
     "execution_count": 38,
     "metadata": {},
     "output_type": "execute_result"
    }
   ],
   "source": [
    "item1 > LineItem('ipad', 999.99, 1)"
   ]
  },
  {
   "cell_type": "code",
   "execution_count": null,
   "metadata": {},
   "outputs": [],
   "source": [
    "item1.comments.append(\"ASAP\")"
   ]
  },
  {
   "cell_type": "code",
   "execution_count": null,
   "metadata": {},
   "outputs": [
    {
     "data": {
      "text/plain": [
       "LineItem(name='ipad', unit_price=999.99, quantity=1, comments=['ASAP'])"
      ]
     },
     "execution_count": 67,
     "metadata": {},
     "output_type": "execute_result"
    }
   ],
   "source": [
    "item1"
   ]
  },
  {
   "cell_type": "code",
   "execution_count": 105,
   "metadata": {},
   "outputs": [
    {
     "data": {
      "text/plain": [
       "1"
      ]
     },
     "execution_count": 105,
     "metadata": {},
     "output_type": "execute_result"
    }
   ],
   "source": [
    "LineItem.count"
   ]
  }
 ],
 "metadata": {
  "kernelspec": {
   "display_name": ".venv",
   "language": "python",
   "name": "python3"
  },
  "language_info": {
   "codemirror_mode": {
    "name": "ipython",
    "version": 3
   },
   "file_extension": ".py",
   "mimetype": "text/x-python",
   "name": "python",
   "nbconvert_exporter": "python",
   "pygments_lexer": "ipython3",
   "version": "3.11.2"
  },
  "orig_nbformat": 4
 },
 "nbformat": 4,
 "nbformat_minor": 2
}
